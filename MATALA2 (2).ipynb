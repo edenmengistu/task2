{
 "cells": [
  {
   "cell_type": "code",
   "execution_count": 1,
   "id": "aa7385ee-4803-48e1-84b6-1cfba63af4ca",
   "metadata": {},
   "outputs": [],
   "source": [
    "import pandas as pd\n",
    "import numpy as np\n",
    "import matplotlib.pyplot as plt\n",
    "import sklearn"
   ]
  },
  {
   "cell_type": "code",
   "execution_count": 2,
   "id": "cf13a93b-41a7-4708-997e-fa5433ef29f6",
   "metadata": {},
   "outputs": [
    {
     "name": "stderr",
     "output_type": "stream",
     "text": [
      "C:\\Users\\edenm\\AppData\\Local\\Temp\\ipykernel_12924\\2985822413.py:1: DtypeWarning: Columns (6) have mixed types. Specify dtype option on import or set low_memory=False.\n",
      "  data = pd.read_csv('C:/Users/edenm\\Desktop/PYTHON/matala2_cosmetics_2019-Nov.csv')\n"
     ]
    }
   ],
   "source": [
    "data = pd.read_csv('C:/Users/edenm\\Desktop/PYTHON/matala2_cosmetics_2019-Nov.csv') \n",
    "#dataset = data.loc[100:120]\n",
    "#dataset.tail(5)"
   ]
  },
  {
   "cell_type": "code",
   "execution_count": 3,
   "id": "1cc5271a-ce7a-49da-8a3d-bbef85a1d60b",
   "metadata": {},
   "outputs": [],
   "source": [
    "#dataset.info()"
   ]
  },
  {
   "cell_type": "code",
   "execution_count": 6,
   "id": "51f34b69-e490-4ef1-95e2-663a546b8eb9",
   "metadata": {},
   "outputs": [],
   "source": [
    "data['event_time']= pd.to_datetime(data['event_time'])\n",
    "# Calculate the duration to the next event:\n",
    "data['duration_to_next_event'] = data.groupby('user_session')['event_time'].shift(-1) - data['event_time']\n",
    "\n",
    "# For last event in visit, set to 0:\n",
    "data.loc[data.groupby('user_session').tail(1).index, 'duration_to_next_event'] = 0\n",
    "#dataset['duration_to_next_event'] "
   ]
  },
  {
   "cell_type": "code",
   "execution_count": 4,
   "id": "a6c62301-99fc-4b78-9c85-90321e538635",
   "metadata": {},
   "outputs": [],
   "source": [
    "data['event_time'] = pd.to_datetime(data['event_time'])"
   ]
  },
  {
   "cell_type": "markdown",
   "id": "9f61b000-54ea-48ca-8a48-2f7d1ff303ef",
   "metadata": {},
   "source": [
    "Q2:"
   ]
  },
  {
   "cell_type": "code",
   "execution_count": 7,
   "id": "d1a71b24-9ff6-44c8-b402-fe16d2bf35e3",
   "metadata": {},
   "outputs": [],
   "source": [
    "# Sort dataframe by user_id and visit_date\n",
    "data = data.sort_values(['user_id', 'event_time'])\n",
    "\n",
    "# Create a series of time differences between visits for each user\n",
    "time_diffs = data.groupby('user_id')['event_time'].diff()\n",
    "\n",
    "# Create a series of flags for the start of each panel\n",
    "panel_starts = (time_diffs >= pd.Timedelta(days=5)) | time_diffs.isna()\n",
    "\n",
    "# Create a series of panel numbers based on the start of each panel\n",
    "panel_numbers = panel_starts.groupby(data['user_id']).cumsum()\n",
    "\n",
    "# Assign the panel numbers to the dataframe\n",
    "data['funnel_number'] = panel_numbers\n",
    "#dataset.head(10)"
   ]
  },
  {
   "cell_type": "markdown",
   "id": "c4ed18d6-0c95-4ca4-86fb-66ae44418cc4",
   "metadata": {},
   "source": [
    "Q3:"
   ]
  },
  {
   "cell_type": "code",
   "execution_count": 8,
   "id": "8aeaf353-8b0e-4997-ae5e-65a8952de550",
   "metadata": {},
   "outputs": [
    {
     "data": {
      "text/html": [
       "<div>\n",
       "<style scoped>\n",
       "    .dataframe tbody tr th:only-of-type {\n",
       "        vertical-align: middle;\n",
       "    }\n",
       "\n",
       "    .dataframe tbody tr th {\n",
       "        vertical-align: top;\n",
       "    }\n",
       "\n",
       "    .dataframe thead th {\n",
       "        text-align: right;\n",
       "    }\n",
       "</style>\n",
       "<table border=\"1\" class=\"dataframe\">\n",
       "  <thead>\n",
       "    <tr style=\"text-align: right;\">\n",
       "      <th></th>\n",
       "      <th>event_time</th>\n",
       "      <th>event_type</th>\n",
       "      <th>product_id</th>\n",
       "      <th>category_id</th>\n",
       "      <th>category_code</th>\n",
       "      <th>brand</th>\n",
       "      <th>price</th>\n",
       "      <th>user_id</th>\n",
       "      <th>user_session</th>\n",
       "      <th>duration_to_next_event</th>\n",
       "      <th>funnel_number</th>\n",
       "      <th>index_in_funnel</th>\n",
       "    </tr>\n",
       "  </thead>\n",
       "  <tbody>\n",
       "    <tr>\n",
       "      <th>437209</th>\n",
       "      <td>2019-11-04 15:28:57+00:00</td>\n",
       "      <td>view</td>\n",
       "      <td>5240</td>\n",
       "      <td>1487580009202712597</td>\n",
       "      <td>NaN</td>\n",
       "      <td>runail</td>\n",
       "      <td>4.05</td>\n",
       "      <td>1120748</td>\n",
       "      <td>d0484d94-7ac1-44e8-a310-2360da11ad9d</td>\n",
       "      <td>0</td>\n",
       "      <td>1</td>\n",
       "      <td>1</td>\n",
       "    </tr>\n",
       "    <tr>\n",
       "      <th>2494623</th>\n",
       "      <td>2019-11-19 11:14:48+00:00</td>\n",
       "      <td>view</td>\n",
       "      <td>5814066</td>\n",
       "      <td>1487580005855658874</td>\n",
       "      <td>NaN</td>\n",
       "      <td>grattol</td>\n",
       "      <td>2.3</td>\n",
       "      <td>1458813</td>\n",
       "      <td>6873a205-d9f5-4d51-b3eb-b4bfddfe907c</td>\n",
       "      <td>0</td>\n",
       "      <td>1</td>\n",
       "      <td>1</td>\n",
       "    </tr>\n",
       "    <tr>\n",
       "      <th>2640971</th>\n",
       "      <td>2019-11-20 11:58:06+00:00</td>\n",
       "      <td>view</td>\n",
       "      <td>5800358</td>\n",
       "      <td>1487580005553668971</td>\n",
       "      <td>NaN</td>\n",
       "      <td>NaN</td>\n",
       "      <td>7.46</td>\n",
       "      <td>1458813</td>\n",
       "      <td>921ff98c-a419-4132-af94-ee26880334b0</td>\n",
       "      <td>0 days 00:00:21</td>\n",
       "      <td>1</td>\n",
       "      <td>2</td>\n",
       "    </tr>\n",
       "    <tr>\n",
       "      <th>2641003</th>\n",
       "      <td>2019-11-20 11:58:27+00:00</td>\n",
       "      <td>view</td>\n",
       "      <td>5800349</td>\n",
       "      <td>1487580005553668971</td>\n",
       "      <td>NaN</td>\n",
       "      <td>NaN</td>\n",
       "      <td>7.46</td>\n",
       "      <td>1458813</td>\n",
       "      <td>921ff98c-a419-4132-af94-ee26880334b0</td>\n",
       "      <td>0 days 00:01:12</td>\n",
       "      <td>1</td>\n",
       "      <td>2</td>\n",
       "    </tr>\n",
       "    <tr>\n",
       "      <th>2641209</th>\n",
       "      <td>2019-11-20 11:59:39+00:00</td>\n",
       "      <td>view</td>\n",
       "      <td>5800349</td>\n",
       "      <td>1487580005553668971</td>\n",
       "      <td>NaN</td>\n",
       "      <td>NaN</td>\n",
       "      <td>7.46</td>\n",
       "      <td>1458813</td>\n",
       "      <td>921ff98c-a419-4132-af94-ee26880334b0</td>\n",
       "      <td>0 days 00:00:28</td>\n",
       "      <td>1</td>\n",
       "      <td>2</td>\n",
       "    </tr>\n",
       "  </tbody>\n",
       "</table>\n",
       "</div>"
      ],
      "text/plain": [
       "                       event_time event_type  product_id          category_id  \\\n",
       "437209  2019-11-04 15:28:57+00:00       view        5240  1487580009202712597   \n",
       "2494623 2019-11-19 11:14:48+00:00       view     5814066  1487580005855658874   \n",
       "2640971 2019-11-20 11:58:06+00:00       view     5800358  1487580005553668971   \n",
       "2641003 2019-11-20 11:58:27+00:00       view     5800349  1487580005553668971   \n",
       "2641209 2019-11-20 11:59:39+00:00       view     5800349  1487580005553668971   \n",
       "\n",
       "        category_code    brand price  user_id  \\\n",
       "437209            NaN   runail  4.05  1120748   \n",
       "2494623           NaN  grattol   2.3  1458813   \n",
       "2640971           NaN      NaN  7.46  1458813   \n",
       "2641003           NaN      NaN  7.46  1458813   \n",
       "2641209           NaN      NaN  7.46  1458813   \n",
       "\n",
       "                                 user_session duration_to_next_event  \\\n",
       "437209   d0484d94-7ac1-44e8-a310-2360da11ad9d                      0   \n",
       "2494623  6873a205-d9f5-4d51-b3eb-b4bfddfe907c                      0   \n",
       "2640971  921ff98c-a419-4132-af94-ee26880334b0        0 days 00:00:21   \n",
       "2641003  921ff98c-a419-4132-af94-ee26880334b0        0 days 00:01:12   \n",
       "2641209  921ff98c-a419-4132-af94-ee26880334b0        0 days 00:00:28   \n",
       "\n",
       "         funnel_number  index_in_funnel  \n",
       "437209               1                1  \n",
       "2494623              1                1  \n",
       "2640971              1                2  \n",
       "2641003              1                2  \n",
       "2641209              1                2  "
      ]
     },
     "execution_count": 8,
     "metadata": {},
     "output_type": "execute_result"
    }
   ],
   "source": [
    "\n",
    "data.sort_values(['user_id', 'user_session', 'event_time'], inplace=True)\n",
    "grouped = data.groupby(['user_id', 'funnel_number'])\n",
    "data['index_in_funnel'] = grouped['user_session'].transform(lambda x: (x != x.shift()).cumsum())\n",
    "data.head()\n"
   ]
  },
  {
   "cell_type": "markdown",
   "id": "fafdb100-4ef2-48c8-824c-bb9271ebe02a",
   "metadata": {},
   "source": [
    "Q4:"
   ]
  },
  {
   "cell_type": "code",
   "execution_count": 9,
   "id": "a54e9245-3b37-4c75-9c68-26963d12b56a",
   "metadata": {},
   "outputs": [],
   "source": [
    "import re\n",
    "# regular expression pattern to match prices\n",
    "price_pattern = re.compile(r'(\\d+\\.\\d+)')\n",
    "\n",
    "# extract the price value and convert it to float\n",
    "data['price'] = data['price'].str.extract(price_pattern, expand=False).astype(float)\n"
   ]
  },
  {
   "cell_type": "markdown",
   "id": "80f0cbc6-1370-4966-81b0-bbebb996d121",
   "metadata": {},
   "source": [
    "Q5:"
   ]
  },
  {
   "cell_type": "code",
   "execution_count": 10,
   "id": "fe3b6660-0343-47fd-9729-70e27a4b4250",
   "metadata": {},
   "outputs": [
    {
     "data": {
      "image/png": "[encoded data removed]",
      "text/plain": [
       "<Figure size 640x480 with 1 Axes>"
      ]
     },
     "metadata": {},
     "output_type": "display_data"
    }
   ],
   "source": [
    "# display the unique values in the event_type column\n",
    "#dataset['event_type'].unique()\n",
    "# get the counts of each event type\n",
    "event_counts = data['event_type'].value_counts().astype(int)\n",
    "# create a bar plot of the event counts\n",
    "plt.bar(event_counts.index, event_counts.values)\n",
    "# set the x-axis and y-axis labels and the plot title\n",
    "plt.xlabel('Event Type')\n",
    "plt.ylabel('Number of Events')\n",
    "plt.title('Event Type Counts')\n",
    "# create a list of colors for each event type\n",
    "colors = ['green', 'red', 'blue' , 'yellow']\n",
    "\n",
    "# plot the bar chart with colors\n",
    "plt.bar(event_counts.index, event_counts.values, color=colors)\n",
    "\n",
    "plt.show()"
   ]
  },
  {
   "cell_type": "markdown",
   "id": "047097d3-14cd-44c2-acd0-585965ba5673",
   "metadata": {},
   "source": [
    "Q6:"
   ]
  },
  {
   "cell_type": "code",
   "execution_count": 11,
   "id": "baafae7e-2c23-4600-a503-2e7b73b9e1f5",
   "metadata": {},
   "outputs": [
    {
     "data": {
      "text/html": [
       "<div>\n",
       "<style scoped>\n",
       "    .dataframe tbody tr th:only-of-type {\n",
       "        vertical-align: middle;\n",
       "    }\n",
       "\n",
       "    .dataframe tbody tr th {\n",
       "        vertical-align: top;\n",
       "    }\n",
       "\n",
       "    .dataframe thead th {\n",
       "        text-align: right;\n",
       "    }\n",
       "</style>\n",
       "<table border=\"1\" class=\"dataframe\">\n",
       "  <thead>\n",
       "    <tr style=\"text-align: right;\">\n",
       "      <th></th>\n",
       "      <th>user_id</th>\n",
       "      <th>user_session</th>\n",
       "      <th>funnel_number</th>\n",
       "      <th>index_in_funnel</th>\n",
       "      <th>number_of_events</th>\n",
       "      <th>duration_time</th>\n",
       "      <th>list_of_viewed</th>\n",
       "      <th>list_of_added_to_cart</th>\n",
       "      <th>list_of_purchased</th>\n",
       "    </tr>\n",
       "  </thead>\n",
       "  <tbody>\n",
       "    <tr>\n",
       "      <th>0</th>\n",
       "      <td>1120748</td>\n",
       "      <td>d0484d94-7ac1-44e8-a310-2360da11ad9d</td>\n",
       "      <td>1</td>\n",
       "      <td>1</td>\n",
       "      <td>1.0</td>\n",
       "      <td>0 days 00:00:00</td>\n",
       "      <td>[5240]</td>\n",
       "      <td>[5745712, 49674, 5587748, 4590, 34763]</td>\n",
       "      <td>[5812033, 5724621, 5809910, 5811668]</td>\n",
       "    </tr>\n",
       "    <tr>\n",
       "      <th>1</th>\n",
       "      <td>1458813</td>\n",
       "      <td>6873a205-d9f5-4d51-b3eb-b4bfddfe907c</td>\n",
       "      <td>1</td>\n",
       "      <td>1</td>\n",
       "      <td>1.0</td>\n",
       "      <td>0 days 00:00:00</td>\n",
       "      <td>[5814066]</td>\n",
       "      <td>[5569506]</td>\n",
       "      <td>[5766379, 5614842]</td>\n",
       "    </tr>\n",
       "    <tr>\n",
       "      <th>2</th>\n",
       "      <td>1458813</td>\n",
       "      <td>921ff98c-a419-4132-af94-ee26880334b0</td>\n",
       "      <td>1</td>\n",
       "      <td>2</td>\n",
       "      <td>28.0</td>\n",
       "      <td>0 days 01:03:09</td>\n",
       "      <td>[5800358, 5800349, 5800349, 5800358, 5712576, ...</td>\n",
       "      <td>[5896421, 5841190, 5896422, 5896419]</td>\n",
       "      <td>[5809910, 5809911, 5809912, 5862544, 5870648, ...</td>\n",
       "    </tr>\n",
       "    <tr>\n",
       "      <th>3</th>\n",
       "      <td>1458813</td>\n",
       "      <td>ad1a2e9e-cc14-4b98-b70b-5dd539e76bba</td>\n",
       "      <td>1</td>\n",
       "      <td>3</td>\n",
       "      <td>1.0</td>\n",
       "      <td>0 days 00:00:00</td>\n",
       "      <td>[5711087]</td>\n",
       "      <td>[5896421, 5896422]</td>\n",
       "      <td>[5850620, 5850625, 5850621, 5850619, 5816166, ...</td>\n",
       "    </tr>\n",
       "    <tr>\n",
       "      <th>4</th>\n",
       "      <td>1458813</td>\n",
       "      <td>b16644a2-44db-4650-8156-f6f03782d432</td>\n",
       "      <td>1</td>\n",
       "      <td>4</td>\n",
       "      <td>1.0</td>\n",
       "      <td>0 days 00:00:00</td>\n",
       "      <td>[5711145]</td>\n",
       "      <td>[5811668, 5811668, 5724608, 5724658, 5724658, ...</td>\n",
       "      <td>[5846442, 5686083]</td>\n",
       "    </tr>\n",
       "  </tbody>\n",
       "</table>\n",
       "</div>"
      ],
      "text/plain": [
       "   user_id                          user_session  funnel_number  \\\n",
       "0  1120748  d0484d94-7ac1-44e8-a310-2360da11ad9d              1   \n",
       "1  1458813  6873a205-d9f5-4d51-b3eb-b4bfddfe907c              1   \n",
       "2  1458813  921ff98c-a419-4132-af94-ee26880334b0              1   \n",
       "3  1458813  ad1a2e9e-cc14-4b98-b70b-5dd539e76bba              1   \n",
       "4  1458813  b16644a2-44db-4650-8156-f6f03782d432              1   \n",
       "\n",
       "   index_in_funnel  number_of_events   duration_time  \\\n",
       "0                1               1.0 0 days 00:00:00   \n",
       "1                1               1.0 0 days 00:00:00   \n",
       "2                2              28.0 0 days 01:03:09   \n",
       "3                3               1.0 0 days 00:00:00   \n",
       "4                4               1.0 0 days 00:00:00   \n",
       "\n",
       "                                      list_of_viewed  \\\n",
       "0                                             [5240]   \n",
       "1                                          [5814066]   \n",
       "2  [5800358, 5800349, 5800349, 5800358, 5712576, ...   \n",
       "3                                          [5711087]   \n",
       "4                                          [5711145]   \n",
       "\n",
       "                               list_of_added_to_cart  \\\n",
       "0             [5745712, 49674, 5587748, 4590, 34763]   \n",
       "1                                          [5569506]   \n",
       "2               [5896421, 5841190, 5896422, 5896419]   \n",
       "3                                 [5896421, 5896422]   \n",
       "4  [5811668, 5811668, 5724608, 5724658, 5724658, ...   \n",
       "\n",
       "                                   list_of_purchased  \n",
       "0               [5812033, 5724621, 5809910, 5811668]  \n",
       "1                                 [5766379, 5614842]  \n",
       "2  [5809910, 5809911, 5809912, 5862544, 5870648, ...  \n",
       "3  [5850620, 5850625, 5850621, 5850619, 5816166, ...  \n",
       "4                                 [5846442, 5686083]  "
      ]
     },
     "execution_count": 11,
     "metadata": {},
     "output_type": "execute_result"
    }
   ],
   "source": [
    "\n",
    "# new data frame and insert the old columns:\n",
    "session_data = pd.DataFrame()\n",
    "session_data['user_id'] = data.drop_duplicates(subset=['user_id', 'user_session'])['user_id'].reset_index(drop=True)\n",
    "session_data['user_session'] = data.drop_duplicates(subset=['user_id', 'user_session'])['user_session'].reset_index(drop=True)\n",
    "session_data['funnel_number'] = data.drop_duplicates(subset=['user_id', 'user_session'])['funnel_number'].reset_index(drop=True)\n",
    "session_data['index_in_funnel'] = data.drop_duplicates(subset=['user_id', 'user_session'])['index_in_funnel'].reset_index(drop=True)\n",
    "\n",
    "# new columns:\n",
    "session_data['number_of_events'] = data.groupby(['user_id', 'user_session'])['event_time'].count().reset_index(drop=True)\n",
    "session_data['duration_time'] = data.groupby(['user_id', 'user_session'])['event_time'].max().reset_index(drop=True) - data.groupby(['user_id', 'user_session'])['event_time'].min().reset_index(drop=True) \n",
    "session_data['list_of_viewed'] = data[data['event_type'] == 'view'].groupby(['user_id', 'user_session'])['product_id'].apply(list).reset_index(drop=True)\n",
    "session_data['list_of_added_to_cart'] = data[data['event_type'] == 'cart'].groupby(['user_id', 'user_session'])['product_id'].apply(list).reset_index(drop=True)\n",
    "session_data['list_of_purchased'] = data[data['event_type'] == 'purchase'].groupby(['user_id', 'user_session'])['product_id'].apply(list).reset_index(drop=True)\n",
    "session_data.head()"
   ]
  },
  {
   "cell_type": "code",
   "execution_count": null,
   "id": "51a0fef9-41e1-4df5-9ca9-78992b2e890b",
   "metadata": {},
   "outputs": [],
   "source": []
  }
 ],
 "metadata": {
  "kernelspec": {
   "display_name": "Python 3 (ipykernel)",
   "language": "python",
   "name": "python3"
  },
  "language_info": {
   "codemirror_mode": {
    "name": "ipython",
    "version": 3
   },
   "file_extension": ".py",
   "mimetype": "text/x-python",
   "name": "python",
   "nbconvert_exporter": "python",
   "pygments_lexer": "ipython3",
   "version": "3.10.9"
  }
 },
 "nbformat": 4,
 "nbformat_minor": 5
}
